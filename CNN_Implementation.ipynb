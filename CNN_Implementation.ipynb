{
  "nbformat": 4,
  "nbformat_minor": 0,
  "metadata": {
    "colab": {
      "provenance": [],
      "authorship_tag": "ABX9TyMHW0rl4KxcWMmVqE8JfVTE"
    },
    "kernelspec": {
      "name": "python3",
      "display_name": "Python 3"
    },
    "language_info": {
      "name": "python"
    }
  },
  "cells": [
    {
      "cell_type": "markdown",
      "source": [
        "nbconvert"
      ],
      "metadata": {
        "id": "u06rzCKqTkkF"
      }
    },
    {
      "cell_type": "code",
      "source": [
        "!jupyter nbconvert --to html /content/drive/MyDrive/Colab_Notebooks/CNN_Implementation.ipynb"
      ],
      "metadata": {
        "id": "9cBkcGAbTkDZ"
      },
      "execution_count": null,
      "outputs": []
    },
    {
      "cell_type": "markdown",
      "source": [
        "#CNN Implementation\n",
        "##October2023\n",
        "###E1: Create a Dataset class to read the data. When initialized, this class should take as arguments the path to the data the transformation to be applied to each image(see TIP2)and if the dataset is train or test.If train you should load all the 5 batches that composed the whole CIFAR training set.[2.0pts]\n",
        "\n"
      ],
      "metadata": {
        "id": "4_Xt2z6fyJJU"
      }
    },
    {
      "cell_type": "markdown",
      "source": [
        "We define the libraries that we are going to use"
      ],
      "metadata": {
        "id": "jC7fJLarzJ0O"
      }
    },
    {
      "cell_type": "code",
      "execution_count": 2,
      "metadata": {
        "id": "atrGbClTzA08",
        "colab": {
          "base_uri": "https://localhost:8080/"
        },
        "outputId": "b0bd051b-0ea2-41c3-c7d7-abf1583e6451"
      },
      "outputs": [
        {
          "output_type": "stream",
          "name": "stdout",
          "text": [
            "Mounted at /content/drive\n"
          ]
        }
      ],
      "source": [
        "import torch\n",
        "import torchvision\n",
        "from torch.utils.data import Dataset\n",
        "import torchvision.transforms as transforms\n",
        "from torchvision import transforms\n",
        "import matplotlib.pyplot as plt\n",
        "import numpy as np\n",
        "import torch.nn as nn\n",
        "import torch.nn.functional as F\n",
        "import pickle\n",
        "import torch.optim as optim\n",
        "from google.colab import drive\n",
        "drive.mount('/content/drive')\n"
      ]
    },
    {
      "cell_type": "markdown",
      "source": [
        "Function provided from  [CIFAR-10 dataset ](https://www.cs.toronto.edu/~kriz/cifar.html)to load CIFAR-10 data from a file using pickle."
      ],
      "metadata": {
        "id": "J3ZXyILMMO96"
      }
    },
    {
      "cell_type": "code",
      "source": [
        "# Function to load CIFAR-10 data from a file using pickle\n",
        "def unpickle(file):\n",
        "    with open(file, 'rb') as fo:\n",
        "        dict = pickle.load(fo, encoding='bytes')\n",
        "    return dict"
      ],
      "metadata": {
        "id": "h3fBzVG0Mqt4"
      },
      "execution_count": 3,
      "outputs": []
    },
    {
      "cell_type": "markdown",
      "source": [
        "Custom dataset class for handling CIFAR-10 data.\n"
      ],
      "metadata": {
        "id": "LWohbeJ70gkc"
      }
    },
    {
      "cell_type": "code",
      "source": [
        "# Constructor for CIFAR10Dataset class\n",
        "class CIFAR10Dataset(Dataset):\n",
        "    def __init__(self, root, transform=None, train=True):\n",
        "        # Use the provided unpickle function to load CIFAR-10 data\n",
        "        if train: # If 'train' is True, load training data, else load test data\n",
        "            data_batch_list = [unpickle(f\"{root}data_batch_{i}\") for i in range(1, 6)]\n",
        "            self.cifar_data = {'data': np.concatenate([batch[b'data'] for batch in data_batch_list]),\n",
        "                               'labels': np.concatenate([batch[b'labels'] for batch in data_batch_list])}\n",
        "        else: # Load test data using the unpickle function\n",
        "            test_batch = unpickle(f\"{root}/test_batch\")\n",
        "            self.cifar_data = {'data': test_batch[b'data'], 'labels': test_batch[b'labels']}\n",
        "        self.transform = transform\n",
        "        # Dictionary mapping class indices to class names\n",
        "        self.classes_cifar10 = {\n",
        "            0: 'Airplane', 1: 'Automobile', 2: 'Bird', 3: 'Cat', 4: 'Deer', 5: 'Dog', 6: 'Frog', 7: 'Horse', 8: 'Ship', 9: 'Truck'\n",
        "        }\n",
        "\n",
        "    def __len__(self): # Return the number of samples in the dataset\n",
        "        return len(self.cifar_data['data'])\n",
        "\n",
        "    def __getitem__(self, idx): # Get a sample (image and label) at the specified index\n",
        "        image, label = self.cifar_data['data'][idx], self.cifar_data['labels'][idx]\n",
        "        image = image.reshape( 3, 32, 32).transpose(1, 2, 0) / 255.0\n",
        "        print(type(image))\n",
        "        if self.transform:\n",
        "            image = self.transform(image)\n",
        "\n",
        "        label = self.classes_cifar10[label] # Map the label index to the corresponding class name\n",
        "        return image, label\n"
      ],
      "metadata": {
        "id": "C-WVIdO_0LyW"
      },
      "execution_count": 4,
      "outputs": []
    },
    {
      "cell_type": "markdown",
      "source": [
        "TIP2: We want to normalize the images in[-1,1].\n",
        "To do so you can use the torchvision package and the transforms module:"
      ],
      "metadata": {
        "id": "ikBmJopWNkM9"
      }
    },
    {
      "cell_type": "code",
      "source": [
        "# Define the transformation to be applied to each image\n",
        "transform = transforms.Compose([\n",
        "    transforms.ToTensor(),\n",
        "    transforms.Normalize((0.5, 0.5, 0.5), (0.5, 0.5, 0.5))\n",
        "])"
      ],
      "metadata": {
        "id": "ejQ3GP3mNjN-"
      },
      "execution_count": 5,
      "outputs": []
    },
    {
      "cell_type": "markdown",
      "source": [
        "TIP3: If you’re curious and want to visualize some image you can use the following function:"
      ],
      "metadata": {
        "id": "tYbJEKI2Q2QE"
      }
    },
    {
      "cell_type": "code",
      "source": [
        "# Visualization of an image.\n",
        "def imshow(img):\n",
        "    img = img / 2 + 0.5  # Unnormalize\n",
        "    npimg = img.numpy()\n",
        "    plt.imshow(np.transpose(npimg, (1, 2, 0)))\n",
        "    plt.show()"
      ],
      "metadata": {
        "id": "wdBYirAhQ1RF"
      },
      "execution_count": 6,
      "outputs": []
    },
    {
      "cell_type": "markdown",
      "source": [
        "Example of E1 implementation.\n",
        "\n"
      ],
      "metadata": {
        "id": "PEU9q2nz0wEg"
      }
    },
    {
      "cell_type": "code",
      "source": [
        "# Create CIFAR10Dataset instances for the training and test sets\n",
        "root = (\"/content/drive/MyDrive/Máster UB/Semestre3/Tècniques d'Aprenentatge Profund per a la Biomedicina/CNN Exercise/cifar-10-python/cifar-10-batches-py/\")\n",
        "train_dataset = CIFAR10Dataset(root, transform=transform, train=True)\n",
        "# Access an example image and its label\n",
        "example_image_train, example_label_train = train_dataset[1]\n",
        "imshow(example_image_train) # Visualize the example image\n"
      ],
      "metadata": {
        "colab": {
          "base_uri": "https://localhost:8080/",
          "height": 447
        },
        "id": "CLscbsGW0tpa",
        "outputId": "dbc5d493-16c3-4c1e-8f40-2e0b16e6c2bd"
      },
      "execution_count": 7,
      "outputs": [
        {
          "output_type": "stream",
          "name": "stdout",
          "text": [
            "<class 'numpy.ndarray'>\n"
          ]
        },
        {
          "output_type": "display_data",
          "data": {
            "text/plain": [
              "<Figure size 640x480 with 1 Axes>"
            ],
            "image/png": "[encoded data removed]"
          },
          "metadata": {}
        }
      ]
    },
    {
      "cell_type": "markdown",
      "source": [
        "Example using the code for visualization from pytorch."
      ],
      "metadata": {
        "id": "OsCu4BP61s81"
      }
    },
    {
      "cell_type": "code",
      "source": [
        "# show images\n",
        "imshow(torchvision.utils.make_grid(example_image_train))\n"
      ],
      "metadata": {
        "colab": {
          "base_uri": "https://localhost:8080/",
          "height": 430
        },
        "id": "YRdAe8_v1sUF",
        "outputId": "7cd75170-2b99-4d60-94ec-e78810134aa3"
      },
      "execution_count": 8,
      "outputs": [
        {
          "output_type": "display_data",
          "data": {
            "text/plain": [
              "<Figure size 640x480 with 1 Axes>"
            ],
            "image/png": "[encoded data removed]"
          },
          "metadata": {}
        }
      ]
    },
    {
      "cell_type": "markdown",
      "source": [
        "### E2: Build a CNN model to predict a class from the input image(you can use the Conv2D module and one of the plenty pooling layers already implemented). Good practice is to build the model class as general as possible,and the specify the hyperparaemeters when the class is called.[2.0pts]"
      ],
      "metadata": {
        "id": "JSabvHKyyE_M"
      }
    },
    {
      "cell_type": "markdown",
      "source": [
        "FlexibleCNN - Custom neural network with flexible architecture\n",
        "\n",
        "Note: The class is ultimately not implemented and is replaced by a modified version of the original obtained from pytorch."
      ],
      "metadata": {
        "id": "EapwmzwPAD2c"
      }
    },
    {
      "cell_type": "code",
      "source": [
        "\"\"\"\n",
        "class FlexibleCNN(nn.Module):\n",
        "    def __init__(self, layer_configs):\n",
        "        super(FlexibleCNN, self).__init__()\n",
        "\n",
        "        # Initialize the layers list\n",
        "        self.layers = nn.ModuleList()\n",
        "\n",
        "        # Iterate over the layer configurations and add corresponding layers\n",
        "        for layer_config in layer_configs:\n",
        "            layer_type = layer_config['type']\n",
        "            if layer_type == 'conv':\n",
        "                self.layers.append(nn.Conv2d(\n",
        "                    in_channels=3, #in_channels (int) – Number of channels in the input image RGB = 3\n",
        "                    out_channels=layer_config['out_channels'],\n",
        "                    kernel_size=layer_config['kernel_size']\n",
        "                ))\n",
        "            elif layer_type == 'pool':\n",
        "                self.layers.append(nn.MaxPool2d(\n",
        "                    kernel_size=layer_config['kernel_size'],\n",
        "                    stride=layer_config.get('stride', None)\n",
        "                ))\n",
        "            elif layer_type == 'linear':\n",
        "                self.layers.append(nn.Linear(\n",
        "                    in_features=layer_config['in_features'],\n",
        "                    out_features=layer_config['out_features']\n",
        "                ))\n",
        "            else:\n",
        "                raise ValueError(f\"Unsupported layer type: {layer_type}\")\n",
        "\n",
        "    def forward(self, x):\n",
        "        # Forward pass through all the layers\n",
        "        for layer in self.layers:\n",
        "            x = layer(x)\n",
        "        return x\n",
        "\"\"\""
      ],
      "metadata": {
        "id": "rNAbXhMeWlQR",
        "colab": {
          "base_uri": "https://localhost:8080/",
          "height": 157
        },
        "outputId": "76b03259-13e2-4789-bb95-6a940a069790"
      },
      "execution_count": 9,
      "outputs": [
        {
          "output_type": "execute_result",
          "data": {
            "text/plain": [
              "'\\nclass FlexibleCNN(nn.Module):\\n    def __init__(self, layer_configs):\\n        super(FlexibleCNN, self).__init__()\\n\\n        # Initialize the layers list\\n        self.layers = nn.ModuleList()\\n\\n        # Iterate over the layer configurations and add corresponding layers\\n        for layer_config in layer_configs:\\n            layer_type = layer_config[\\'type\\']\\n            if layer_type == \\'conv\\':\\n                self.layers.append(nn.Conv2d(\\n                    in_channels=3, #in_channels (int) – Number of channels in the input image RGB = 3\\n                    out_channels=layer_config[\\'out_channels\\'],\\n                    kernel_size=layer_config[\\'kernel_size\\']\\n                ))\\n            elif layer_type == \\'pool\\':\\n                self.layers.append(nn.MaxPool2d(\\n                    kernel_size=layer_config[\\'kernel_size\\'],\\n                    stride=layer_config.get(\\'stride\\', None)\\n                ))\\n            elif layer_type == \\'linear\\':\\n                self.layers.append(nn.Linear(\\n                    in_features=layer_config[\\'in_features\\'],\\n                    out_features=layer_config[\\'out_features\\']\\n                ))\\n            else:\\n                raise ValueError(f\"Unsupported layer type: {layer_type}\")\\n\\n    def forward(self, x):\\n        # Forward pass through all the layers\\n        for layer in self.layers:\\n            x = layer(x)\\n        return x\\n'"
            ],
            "application/vnd.google.colaboratory.intrinsic+json": {
              "type": "string"
            }
          },
          "metadata": {},
          "execution_count": 9
        }
      ]
    },
    {
      "cell_type": "code",
      "source": [
        "# Convolutional Neuronal Network definition.\n",
        "class Net(nn.Module):\n",
        "    def __init__(self):\n",
        "        super().__init__()\n",
        "        self.conv1 = nn.Conv2d(3, 6, 5)\n",
        "        self.pool = nn.MaxPool2d(2, 2)\n",
        "        self.conv2 = nn.Conv2d(6, 16, 5)\n",
        "        self.fc1 = nn.Linear(16 * 5 * 5, 120)\n",
        "        self.fc2 = nn.Linear(120, 84)\n",
        "        self.fc3 = nn.Linear(84, 10)\n",
        "\n",
        "    def forward(self, x):\n",
        "        x = self.pool(F.relu(self.conv1(x)))\n",
        "        x = self.pool(F.relu(self.conv2(x)))\n",
        "        x = torch.flatten(x, 1) # flatten all dimensions except batch\n",
        "        x = F.relu(self.fc1(x))\n",
        "        x = F.relu(self.fc2(x))\n",
        "        x = self.fc3(x)\n",
        "        return x"
      ],
      "metadata": {
        "id": "T6yqj6ZtCVaT"
      },
      "execution_count": 10,
      "outputs": []
    },
    {
      "cell_type": "markdown",
      "source": [
        "### Which are the main hyperparameters you should set to build the main model?\n",
        "When building a Convolutional Neural Network (CNN) model, there are several hyperparameters that we need to set,\n",
        "Here are the main hyperparameters, not only for this specific example.\n",
        "\n",
        "&rarr; Convolutional Layer:\n",
        "*  in_channels: The number of input channels, for RGB images this value is 3.\n",
        "*  out_channels: The number of filters (or kernels) to be applied. This determines the number of output channels produced by the convolution. and there are applied in parallel with the input, so there is not a rule or a sequence for the applications of this filters.\n",
        "* kernel_size: The size of the convolutional filter. It can be a single number (for a square filter) or a tuple (height, width).\n",
        "* stride: The stride of the convolution. It determines the step size the filter takes when sliding over the input.\n",
        "\n",
        "&rarr; Pooling Layer:\n",
        "* kernel_size: The size of the pooling window. Similar to kernel_size in the convolutional layer.\n",
        "* stride: The stride of the pooling operation. It determines the step size the pooling window takes when sliding over the input.\n",
        "* padding: Padding added to both sides of the input before applying pooling. Similar to the padding in the convolutional layer."
      ],
      "metadata": {
        "id": "9CUH2o5kzFdc"
      }
    },
    {
      "cell_type": "markdown",
      "source": [
        "### E3: Train and test your model\n",
        "* layer2: Pooling with kernel size of 3 and a stride of 2\n",
        "Which pooling is better?\n",
        "\n",
        "I think the MaxPool2d because by selecting the maximum value, max pooling emphasizes the most important features in a given region, helping to preserve crucial information, resumen enhance the contrast."
      ],
      "metadata": {
        "id": "o884l95sDJU9"
      }
    },
    {
      "cell_type": "code",
      "source": [
        "class LossOptimizerWrapper:\n",
        "    def __init__(self, model_parameters, learning_rate=0.001, momentum=0.9):\n",
        "        self.criterion = nn.CrossEntropyLoss()\n",
        "        self.optimizer = optim.SGD(model_parameters, lr=learning_rate, momentum=momentum)"
      ],
      "metadata": {
        "id": "i_oGpI8uHRe3"
      },
      "execution_count": 11,
      "outputs": []
    },
    {
      "cell_type": "code",
      "source": [
        "# Define the transformation to be applied to each image\n",
        "transform = transforms.Compose([\n",
        "    transforms.ToTensor(),\n",
        "    transforms.Normalize((0.5, 0.5, 0.5), (0.5, 0.5, 0.5))\n",
        "])\n",
        "batch_size = 4\n",
        "trainset = torchvision.datasets.CIFAR10(root='./data', train=True,\n",
        "                                        download=True, transform=transform)\n",
        "trainloader = torch.utils.data.DataLoader(trainset, batch_size=batch_size,\n",
        "                                          shuffle=True, num_workers=0)\n",
        "flexible_model = Net()\n",
        "model_parameters = flexible_model.parameters()\n",
        "loss_optimizer_wrapper = LossOptimizerWrapper(model_parameters)\n",
        "criterion = loss_optimizer_wrapper.criterion\n",
        "optimizer = loss_optimizer_wrapper.optimizer\n",
        "for epoch in range(2):  # loop over the dataset multiple times\n",
        "\n",
        "    running_loss = 0.0\n",
        "    for i, data in enumerate(trainloader, 0):\n",
        "        # get the inputs; data is a list of [inputs, labels]\n",
        "\n",
        "        inputs, labels = data\n",
        "        #print(inputs)\n",
        "        # zero the parameter gradients\n",
        "        optimizer.zero_grad()\n",
        "        # forward + backward + optimize\n",
        "        outputs = flexible_model(inputs)\n",
        "        loss = criterion(outputs, labels)\n",
        "        loss.backward()\n",
        "        optimizer.step()\n",
        "\n",
        "        # print statistics\n",
        "        running_loss += loss.item()\n",
        "        if i % 2000 == 1999:    # print every 2000 mini-batches\n",
        "            print(f'[{epoch + 1}, {i + 1:5d}] loss: {running_loss / 2000:.3f}')\n",
        "            running_loss = 0.0\n",
        "\n",
        "print('Finished Training')"
      ],
      "metadata": {
        "colab": {
          "base_uri": "https://localhost:8080/"
        },
        "id": "BLyS099RH0wD",
        "outputId": "7731ed78-c6bb-4ca7-b87f-4ce278ebbf65"
      },
      "execution_count": 12,
      "outputs": [
        {
          "output_type": "stream",
          "name": "stdout",
          "text": [
            "Downloading https://www.cs.toronto.edu/~kriz/cifar-10-python.tar.gz to ./data/cifar-10-python.tar.gz\n"
          ]
        },
        {
          "output_type": "stream",
          "name": "stderr",
          "text": [
            "100%|██████████| 170498071/170498071 [00:10<00:00, 16052107.01it/s]\n"
          ]
        },
        {
          "output_type": "stream",
          "name": "stdout",
          "text": [
            "Extracting ./data/cifar-10-python.tar.gz to ./data\n",
            "[1,  2000] loss: 2.143\n",
            "[1,  4000] loss: 1.814\n",
            "[1,  6000] loss: 1.670\n",
            "[1,  8000] loss: 1.552\n",
            "[1, 10000] loss: 1.485\n",
            "[1, 12000] loss: 1.443\n",
            "[2,  2000] loss: 1.360\n",
            "[2,  4000] loss: 1.339\n",
            "[2,  6000] loss: 1.308\n",
            "[2,  8000] loss: 1.306\n",
            "[2, 10000] loss: 1.287\n",
            "[2, 12000] loss: 1.253\n",
            "Finished Training\n"
          ]
        }
      ]
    }
  ]
}